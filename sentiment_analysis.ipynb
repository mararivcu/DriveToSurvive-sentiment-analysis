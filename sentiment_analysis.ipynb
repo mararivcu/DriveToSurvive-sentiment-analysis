{
 "cells": [
  {
   "cell_type": "markdown",
   "metadata": {},
   "source": [
    "# DriveToSurvive Sentiment Analysis"
   ]
  },
  {
   "cell_type": "markdown",
   "metadata": {},
   "source": [
    "With this analysis we are looking for to goal mainly a global opinion about the Netflix show DriveToSurvive"
   ]
  },
  {
   "cell_type": "code",
   "execution_count": 1,
   "metadata": {},
   "outputs": [],
   "source": [
    "import tweepy\n",
    "import pandas as pd\n",
    "import numpy as np\n",
    "import re, nltk, spacy\n",
    "import matplotlib.pyplot as plt\n",
    "\n",
    "from textblob import TextBlob\n",
    "from datetime import datetime\n",
    "from TwitterAPI import TwitterAPI\n",
    "from nltk.corpus import stopwords\n",
    "from nltk.tokenize import word_tokenize"
   ]
  },
  {
   "cell_type": "code",
   "execution_count": 2,
   "metadata": {},
   "outputs": [
    {
     "name": "stderr",
     "output_type": "stream",
     "text": [
      "[nltk_data] Downloading package stopwords to\n",
      "[nltk_data]     C:\\Users\\BISITE\\AppData\\Roaming\\nltk_data...\n",
      "[nltk_data]   Package stopwords is already up-to-date!\n"
     ]
    },
    {
     "data": {
      "text/plain": [
       "True"
      ]
     },
     "execution_count": 2,
     "metadata": {},
     "output_type": "execute_result"
    }
   ],
   "source": [
    "nltk.download('stopwords')"
   ]
  },
  {
   "cell_type": "markdown",
   "metadata": {},
   "source": [
    "We need to know the password that was given to us in the Twitter Developer Portal"
   ]
  },
  {
   "cell_type": "code",
   "execution_count": 3,
   "metadata": {},
   "outputs": [],
   "source": [
    "consumer_key = ''\n",
    "\n",
    "consumer_secret = ''\n",
    "\n",
    "access_token = ''\n",
    "\n",
    "access_token_secret = ''\n",
    "\n",
    "bearer_token = ''\n",
    "\n",
    "api = TwitterAPI(consumer_key, consumer_secret, access_token, access_token_secret)\n",
    "\n",
    "client = tweepy.Client(bearer_token)"
   ]
  },
  {
   "cell_type": "markdown",
   "metadata": {},
   "source": [
    "Now we are going to search for recent tweets using the ``get_tweets`` function. This function searches for tweets on a specific topic"
   ]
  },
  {
   "cell_type": "code",
   "execution_count": 4,
   "metadata": {},
   "outputs": [],
   "source": [
    "def get_tweets(topic):\n",
    "        try:\n",
    "            paginate = tweepy.Paginator(\n",
    "                        client.search_recent_tweets,\n",
    "                        topic, \n",
    "                        tweet_fields = ['lang'],\n",
    "                        max_results = 100,  \n",
    "                        limit = 15\n",
    "            )\n",
    "            tweets = []\n",
    "            for tweet in paginate:\n",
    "                tweets.append(tweet)\n",
    "        except:\n",
    "            tweets = [{\"data\": \"\"}]\n",
    "        \n",
    "        df_tweets = pd.DataFrame()\n",
    "        for page in range(len(tweets)):\n",
    "            new = pd.DataFrame(tweets[page][0])\n",
    "            df_tweets = pd.concat([df_tweets, new], axis = 0)\n",
    "\n",
    "        return df_tweets\n"
   ]
  },
  {
   "cell_type": "code",
   "execution_count": 5,
   "metadata": {},
   "outputs": [],
   "source": [
    "df_tweets = get_tweets(\"DriveToSurvive\")"
   ]
  },
  {
   "cell_type": "code",
   "execution_count": 6,
   "metadata": {},
   "outputs": [
    {
     "data": {
      "text/html": [
       "<div>\n",
       "<style scoped>\n",
       "    .dataframe tbody tr th:only-of-type {\n",
       "        vertical-align: middle;\n",
       "    }\n",
       "\n",
       "    .dataframe tbody tr th {\n",
       "        vertical-align: top;\n",
       "    }\n",
       "\n",
       "    .dataframe thead th {\n",
       "        text-align: right;\n",
       "    }\n",
       "</style>\n",
       "<table border=\"1\" class=\"dataframe\">\n",
       "  <thead>\n",
       "    <tr style=\"text-align: right;\">\n",
       "      <th></th>\n",
       "      <th>edit_history_tweet_ids</th>\n",
       "      <th>id</th>\n",
       "      <th>lang</th>\n",
       "      <th>text</th>\n",
       "    </tr>\n",
       "  </thead>\n",
       "  <tbody>\n",
       "    <tr>\n",
       "      <th>0</th>\n",
       "      <td>[1630861805680467969]</td>\n",
       "      <td>1630861805680467969</td>\n",
       "      <td>en</td>\n",
       "      <td>RT @JoyridePod: \"hello Gene...\"\\n\\nThe first r...</td>\n",
       "    </tr>\n",
       "    <tr>\n",
       "      <th>1</th>\n",
       "      <td>[1630861708993413120]</td>\n",
       "      <td>1630861708993413120</td>\n",
       "      <td>en</td>\n",
       "      <td>\"hello Gene...\"\\n\\nThe first race week of the ...</td>\n",
       "    </tr>\n",
       "    <tr>\n",
       "      <th>2</th>\n",
       "      <td>[1630857623481495552]</td>\n",
       "      <td>1630857623481495552</td>\n",
       "      <td>en</td>\n",
       "      <td>Damn Carlos  #DriveToSurvive https://t.co/n9iL...</td>\n",
       "    </tr>\n",
       "    <tr>\n",
       "      <th>3</th>\n",
       "      <td>[1630856851033325568]</td>\n",
       "      <td>1630856851033325568</td>\n",
       "      <td>en</td>\n",
       "      <td>Best F1 Drive to Survive season yet. #Netflix ...</td>\n",
       "    </tr>\n",
       "    <tr>\n",
       "      <th>4</th>\n",
       "      <td>[1630855705476620289]</td>\n",
       "      <td>1630855705476620289</td>\n",
       "      <td>en</td>\n",
       "      <td>@netflix I was wondering why #DriveToSurvive l...</td>\n",
       "    </tr>\n",
       "    <tr>\n",
       "      <th>...</th>\n",
       "      <td>...</td>\n",
       "      <td>...</td>\n",
       "      <td>...</td>\n",
       "      <td>...</td>\n",
       "    </tr>\n",
       "    <tr>\n",
       "      <th>95</th>\n",
       "      <td>[1629916647485231105]</td>\n",
       "      <td>1629916647485231105</td>\n",
       "      <td>en</td>\n",
       "      <td>RT @HaasF1Team: You'd do what to the whole pad...</td>\n",
       "    </tr>\n",
       "    <tr>\n",
       "      <th>96</th>\n",
       "      <td>[1629916128712486914]</td>\n",
       "      <td>1629916128712486914</td>\n",
       "      <td>en</td>\n",
       "      <td>Meanwhile a significant period of time was ded...</td>\n",
       "    </tr>\n",
       "    <tr>\n",
       "      <th>97</th>\n",
       "      <td>[1629915341785579521]</td>\n",
       "      <td>1629915341785579521</td>\n",
       "      <td>en</td>\n",
       "      <td>I thought Vettel wasn't at all invited to spea...</td>\n",
       "    </tr>\n",
       "    <tr>\n",
       "      <th>98</th>\n",
       "      <td>[1629915288085856266]</td>\n",
       "      <td>1629915288085856266</td>\n",
       "      <td>en</td>\n",
       "      <td>Every season of #DriveToSurvive makes me like ...</td>\n",
       "    </tr>\n",
       "    <tr>\n",
       "      <th>99</th>\n",
       "      <td>[1629915153893408770]</td>\n",
       "      <td>1629915153893408770</td>\n",
       "      <td>nl</td>\n",
       "      <td>Jaaa! Nog even het afgelopen seizoen herbeleve...</td>\n",
       "    </tr>\n",
       "  </tbody>\n",
       "</table>\n",
       "<p>1498 rows × 4 columns</p>\n",
       "</div>"
      ],
      "text/plain": [
       "   edit_history_tweet_ids                   id lang  \\\n",
       "0   [1630861805680467969]  1630861805680467969   en   \n",
       "1   [1630861708993413120]  1630861708993413120   en   \n",
       "2   [1630857623481495552]  1630857623481495552   en   \n",
       "3   [1630856851033325568]  1630856851033325568   en   \n",
       "4   [1630855705476620289]  1630855705476620289   en   \n",
       "..                    ...                  ...  ...   \n",
       "95  [1629916647485231105]  1629916647485231105   en   \n",
       "96  [1629916128712486914]  1629916128712486914   en   \n",
       "97  [1629915341785579521]  1629915341785579521   en   \n",
       "98  [1629915288085856266]  1629915288085856266   en   \n",
       "99  [1629915153893408770]  1629915153893408770   nl   \n",
       "\n",
       "                                                 text  \n",
       "0   RT @JoyridePod: \"hello Gene...\"\\n\\nThe first r...  \n",
       "1   \"hello Gene...\"\\n\\nThe first race week of the ...  \n",
       "2   Damn Carlos  #DriveToSurvive https://t.co/n9iL...  \n",
       "3   Best F1 Drive to Survive season yet. #Netflix ...  \n",
       "4   @netflix I was wondering why #DriveToSurvive l...  \n",
       "..                                                ...  \n",
       "95  RT @HaasF1Team: You'd do what to the whole pad...  \n",
       "96  Meanwhile a significant period of time was ded...  \n",
       "97  I thought Vettel wasn't at all invited to spea...  \n",
       "98  Every season of #DriveToSurvive makes me like ...  \n",
       "99  Jaaa! Nog even het afgelopen seizoen herbeleve...  \n",
       "\n",
       "[1498 rows x 4 columns]"
      ]
     },
     "execution_count": 6,
     "metadata": {},
     "output_type": "execute_result"
    }
   ],
   "source": [
    "df_tweets"
   ]
  },
  {
   "cell_type": "markdown",
   "metadata": {},
   "source": [
    "## Cleaning the data"
   ]
  },
  {
   "cell_type": "markdown",
   "metadata": {},
   "source": [
    "Remove the non-English tweets, duplicates, reset the index and drop it"
   ]
  },
  {
   "cell_type": "code",
   "execution_count": 8,
   "metadata": {},
   "outputs": [],
   "source": [
    "df_tweets = df_tweets[df_tweets['lang'] == 'en']\n",
    "df_tweets = df_tweets.drop_duplicates(subset = 'text')\n",
    "df_tweets = df_tweets.reset_index().drop(['index', 'edit_history_tweet_ids'], axis = 1)"
   ]
  },
  {
   "cell_type": "code",
   "execution_count": 9,
   "metadata": {},
   "outputs": [
    {
     "data": {
      "text/html": [
       "<div>\n",
       "<style scoped>\n",
       "    .dataframe tbody tr th:only-of-type {\n",
       "        vertical-align: middle;\n",
       "    }\n",
       "\n",
       "    .dataframe tbody tr th {\n",
       "        vertical-align: top;\n",
       "    }\n",
       "\n",
       "    .dataframe thead th {\n",
       "        text-align: right;\n",
       "    }\n",
       "</style>\n",
       "<table border=\"1\" class=\"dataframe\">\n",
       "  <thead>\n",
       "    <tr style=\"text-align: right;\">\n",
       "      <th></th>\n",
       "      <th>id</th>\n",
       "      <th>lang</th>\n",
       "      <th>text</th>\n",
       "    </tr>\n",
       "  </thead>\n",
       "  <tbody>\n",
       "    <tr>\n",
       "      <th>0</th>\n",
       "      <td>1630861805680467969</td>\n",
       "      <td>en</td>\n",
       "      <td>RT @JoyridePod: \"hello Gene...\"\\n\\nThe first r...</td>\n",
       "    </tr>\n",
       "    <tr>\n",
       "      <th>1</th>\n",
       "      <td>1630861708993413120</td>\n",
       "      <td>en</td>\n",
       "      <td>\"hello Gene...\"\\n\\nThe first race week of the ...</td>\n",
       "    </tr>\n",
       "    <tr>\n",
       "      <th>2</th>\n",
       "      <td>1630857623481495552</td>\n",
       "      <td>en</td>\n",
       "      <td>Damn Carlos  #DriveToSurvive https://t.co/n9iL...</td>\n",
       "    </tr>\n",
       "    <tr>\n",
       "      <th>3</th>\n",
       "      <td>1630856851033325568</td>\n",
       "      <td>en</td>\n",
       "      <td>Best F1 Drive to Survive season yet. #Netflix ...</td>\n",
       "    </tr>\n",
       "    <tr>\n",
       "      <th>4</th>\n",
       "      <td>1630855705476620289</td>\n",
       "      <td>en</td>\n",
       "      <td>@netflix I was wondering why #DriveToSurvive l...</td>\n",
       "    </tr>\n",
       "    <tr>\n",
       "      <th>...</th>\n",
       "      <td>...</td>\n",
       "      <td>...</td>\n",
       "      <td>...</td>\n",
       "    </tr>\n",
       "    <tr>\n",
       "      <th>713</th>\n",
       "      <td>1629918718208745472</td>\n",
       "      <td>en</td>\n",
       "      <td>I wonder whether it was Vettel's choice not to...</td>\n",
       "    </tr>\n",
       "    <tr>\n",
       "      <th>714</th>\n",
       "      <td>1629917665086062596</td>\n",
       "      <td>en</td>\n",
       "      <td>I thought I wasn't getting enough of Yuki-Pier...</td>\n",
       "    </tr>\n",
       "    <tr>\n",
       "      <th>715</th>\n",
       "      <td>1629916128712486914</td>\n",
       "      <td>en</td>\n",
       "      <td>Meanwhile a significant period of time was ded...</td>\n",
       "    </tr>\n",
       "    <tr>\n",
       "      <th>716</th>\n",
       "      <td>1629915341785579521</td>\n",
       "      <td>en</td>\n",
       "      <td>I thought Vettel wasn't at all invited to spea...</td>\n",
       "    </tr>\n",
       "    <tr>\n",
       "      <th>717</th>\n",
       "      <td>1629915288085856266</td>\n",
       "      <td>en</td>\n",
       "      <td>Every season of #DriveToSurvive makes me like ...</td>\n",
       "    </tr>\n",
       "  </tbody>\n",
       "</table>\n",
       "<p>718 rows × 3 columns</p>\n",
       "</div>"
      ],
      "text/plain": [
       "                      id lang  \\\n",
       "0    1630861805680467969   en   \n",
       "1    1630861708993413120   en   \n",
       "2    1630857623481495552   en   \n",
       "3    1630856851033325568   en   \n",
       "4    1630855705476620289   en   \n",
       "..                   ...  ...   \n",
       "713  1629918718208745472   en   \n",
       "714  1629917665086062596   en   \n",
       "715  1629916128712486914   en   \n",
       "716  1629915341785579521   en   \n",
       "717  1629915288085856266   en   \n",
       "\n",
       "                                                  text  \n",
       "0    RT @JoyridePod: \"hello Gene...\"\\n\\nThe first r...  \n",
       "1    \"hello Gene...\"\\n\\nThe first race week of the ...  \n",
       "2    Damn Carlos  #DriveToSurvive https://t.co/n9iL...  \n",
       "3    Best F1 Drive to Survive season yet. #Netflix ...  \n",
       "4    @netflix I was wondering why #DriveToSurvive l...  \n",
       "..                                                 ...  \n",
       "713  I wonder whether it was Vettel's choice not to...  \n",
       "714  I thought I wasn't getting enough of Yuki-Pier...  \n",
       "715  Meanwhile a significant period of time was ded...  \n",
       "716  I thought Vettel wasn't at all invited to spea...  \n",
       "717  Every season of #DriveToSurvive makes me like ...  \n",
       "\n",
       "[718 rows x 3 columns]"
      ]
     },
     "execution_count": 9,
     "metadata": {},
     "output_type": "execute_result"
    }
   ],
   "source": [
    "df_tweets"
   ]
  },
  {
   "cell_type": "markdown",
   "metadata": {},
   "source": [
    "By using the ```clean_text``` function, we can remove elements that may make our analysis more difficult."
   ]
  },
  {
   "cell_type": "code",
   "execution_count": 10,
   "metadata": {},
   "outputs": [],
   "source": [
    "def clean_text(text):\n",
    "    # Remove emojis\n",
    "    text = re.sub(r'[^\\w\\s,]', '', text)\n",
    "\n",
    "    # Remove URLs\n",
    "    text = re.sub(r'http\\S+', '', text)\n",
    "\n",
    "    # Remove ats\n",
    "    text = re.sub(r'@\\w+', '', text)\n",
    "\n",
    "    #Remove symbols\n",
    "    text = text.translate(str.maketrans('', '', '¿?¡!\"#$%&\\'()*+,-./:;<=>?@[\\\\]^_`{|}~'))\n",
    "    \n",
    "    # Remove RT word\n",
    "    text  = re.sub(r'\\bRT\\b', '', text)\n",
    "    \n",
    "    #Lowercase the text\n",
    "    text = text.lower()\n",
    "    \n",
    "    # Remove numbers\n",
    "    text = re.sub(\"\\d+\", \"\", text)\n",
    "    \n",
    "    return text"
   ]
  },
  {
   "cell_type": "markdown",
   "metadata": {},
   "source": [
    "With this second function we want to remove the stopwords from the text"
   ]
  },
  {
   "cell_type": "code",
   "execution_count": 11,
   "metadata": {},
   "outputs": [],
   "source": [
    "def remove_stopwords(text):\n",
    "\n",
    "    stop_words = set(stopwords.words('english'))\n",
    "\n",
    "    tokens = word_tokenize(text)\n",
    "    filtered_text = [word for word in tokens if not word.lower() in stop_words]\n",
    "\n",
    "    clean_text = ' '.join(filtered_text)\n",
    "    \n",
    "    return clean_text\n"
   ]
  },
  {
   "cell_type": "code",
   "execution_count": 12,
   "metadata": {},
   "outputs": [],
   "source": [
    "preprocess = lambda x: clean_text(x)\n",
    "remove_StpWrds = lambda x: remove_stopwords(x)\n",
    "\n",
    "df_tweets['clean_text'] = df_tweets['text'].apply(preprocess)\n",
    "df_tweets['clean_text'] = df_tweets['clean_text'].apply(remove_StpWrds)"
   ]
  },
  {
   "cell_type": "code",
   "execution_count": 13,
   "metadata": {},
   "outputs": [
    {
     "data": {
      "text/html": [
       "<div>\n",
       "<style scoped>\n",
       "    .dataframe tbody tr th:only-of-type {\n",
       "        vertical-align: middle;\n",
       "    }\n",
       "\n",
       "    .dataframe tbody tr th {\n",
       "        vertical-align: top;\n",
       "    }\n",
       "\n",
       "    .dataframe thead th {\n",
       "        text-align: right;\n",
       "    }\n",
       "</style>\n",
       "<table border=\"1\" class=\"dataframe\">\n",
       "  <thead>\n",
       "    <tr style=\"text-align: right;\">\n",
       "      <th></th>\n",
       "      <th>id</th>\n",
       "      <th>lang</th>\n",
       "      <th>text</th>\n",
       "      <th>clean_text</th>\n",
       "    </tr>\n",
       "  </thead>\n",
       "  <tbody>\n",
       "    <tr>\n",
       "      <th>0</th>\n",
       "      <td>1630861805680467969</td>\n",
       "      <td>en</td>\n",
       "      <td>RT @JoyridePod: \"hello Gene...\"\\n\\nThe first r...</td>\n",
       "      <td>joyridepod hello gene first race week season h...</td>\n",
       "    </tr>\n",
       "    <tr>\n",
       "      <th>1</th>\n",
       "      <td>1630861708993413120</td>\n",
       "      <td>en</td>\n",
       "      <td>\"hello Gene...\"\\n\\nThe first race week of the ...</td>\n",
       "      <td>hello gene first race week season hope pre sea...</td>\n",
       "    </tr>\n",
       "    <tr>\n",
       "      <th>2</th>\n",
       "      <td>1630857623481495552</td>\n",
       "      <td>en</td>\n",
       "      <td>Damn Carlos  #DriveToSurvive https://t.co/n9iL...</td>\n",
       "      <td>damn carlos drivetosurvive</td>\n",
       "    </tr>\n",
       "    <tr>\n",
       "      <th>3</th>\n",
       "      <td>1630856851033325568</td>\n",
       "      <td>en</td>\n",
       "      <td>Best F1 Drive to Survive season yet. #Netflix ...</td>\n",
       "      <td>best f drive survive season yet netflix good j...</td>\n",
       "    </tr>\n",
       "    <tr>\n",
       "      <th>4</th>\n",
       "      <td>1630855705476620289</td>\n",
       "      <td>en</td>\n",
       "      <td>@netflix I was wondering why #DriveToSurvive l...</td>\n",
       "      <td>netflix wondering drivetosurvive looked terrib...</td>\n",
       "    </tr>\n",
       "    <tr>\n",
       "      <th>...</th>\n",
       "      <td>...</td>\n",
       "      <td>...</td>\n",
       "      <td>...</td>\n",
       "      <td>...</td>\n",
       "    </tr>\n",
       "    <tr>\n",
       "      <th>713</th>\n",
       "      <td>1629918718208745472</td>\n",
       "      <td>en</td>\n",
       "      <td>I wonder whether it was Vettel's choice not to...</td>\n",
       "      <td>wonder whether vettels choice appear drivetosu...</td>\n",
       "    </tr>\n",
       "    <tr>\n",
       "      <th>714</th>\n",
       "      <td>1629917665086062596</td>\n",
       "      <td>en</td>\n",
       "      <td>I thought I wasn't getting enough of Yuki-Pier...</td>\n",
       "      <td>thought wasnt getting enough yukipierre broman...</td>\n",
       "    </tr>\n",
       "    <tr>\n",
       "      <th>715</th>\n",
       "      <td>1629916128712486914</td>\n",
       "      <td>en</td>\n",
       "      <td>Meanwhile a significant period of time was ded...</td>\n",
       "      <td>meanwhile significant period time dedicated da...</td>\n",
       "    </tr>\n",
       "    <tr>\n",
       "      <th>716</th>\n",
       "      <td>1629915341785579521</td>\n",
       "      <td>en</td>\n",
       "      <td>I thought Vettel wasn't at all invited to spea...</td>\n",
       "      <td>thought vettel wasnt invited speak mind last a...</td>\n",
       "    </tr>\n",
       "    <tr>\n",
       "      <th>717</th>\n",
       "      <td>1629915288085856266</td>\n",
       "      <td>en</td>\n",
       "      <td>Every season of #DriveToSurvive makes me like ...</td>\n",
       "      <td>every season drivetosurvive makes like lando n...</td>\n",
       "    </tr>\n",
       "  </tbody>\n",
       "</table>\n",
       "<p>718 rows × 4 columns</p>\n",
       "</div>"
      ],
      "text/plain": [
       "                      id lang  \\\n",
       "0    1630861805680467969   en   \n",
       "1    1630861708993413120   en   \n",
       "2    1630857623481495552   en   \n",
       "3    1630856851033325568   en   \n",
       "4    1630855705476620289   en   \n",
       "..                   ...  ...   \n",
       "713  1629918718208745472   en   \n",
       "714  1629917665086062596   en   \n",
       "715  1629916128712486914   en   \n",
       "716  1629915341785579521   en   \n",
       "717  1629915288085856266   en   \n",
       "\n",
       "                                                  text  \\\n",
       "0    RT @JoyridePod: \"hello Gene...\"\\n\\nThe first r...   \n",
       "1    \"hello Gene...\"\\n\\nThe first race week of the ...   \n",
       "2    Damn Carlos  #DriveToSurvive https://t.co/n9iL...   \n",
       "3    Best F1 Drive to Survive season yet. #Netflix ...   \n",
       "4    @netflix I was wondering why #DriveToSurvive l...   \n",
       "..                                                 ...   \n",
       "713  I wonder whether it was Vettel's choice not to...   \n",
       "714  I thought I wasn't getting enough of Yuki-Pier...   \n",
       "715  Meanwhile a significant period of time was ded...   \n",
       "716  I thought Vettel wasn't at all invited to spea...   \n",
       "717  Every season of #DriveToSurvive makes me like ...   \n",
       "\n",
       "                                            clean_text  \n",
       "0    joyridepod hello gene first race week season h...  \n",
       "1    hello gene first race week season hope pre sea...  \n",
       "2                           damn carlos drivetosurvive  \n",
       "3    best f drive survive season yet netflix good j...  \n",
       "4    netflix wondering drivetosurvive looked terrib...  \n",
       "..                                                 ...  \n",
       "713  wonder whether vettels choice appear drivetosu...  \n",
       "714  thought wasnt getting enough yukipierre broman...  \n",
       "715  meanwhile significant period time dedicated da...  \n",
       "716  thought vettel wasnt invited speak mind last a...  \n",
       "717  every season drivetosurvive makes like lando n...  \n",
       "\n",
       "[718 rows x 4 columns]"
      ]
     },
     "execution_count": 13,
     "metadata": {},
     "output_type": "execute_result"
    }
   ],
   "source": [
    "df_tweets"
   ]
  },
  {
   "cell_type": "markdown",
   "metadata": {},
   "source": [
    "## Sentiment Analysis"
   ]
  },
  {
   "cell_type": "markdown",
   "metadata": {},
   "source": [
    "```get_sentiment_scores``` provides a measure of the sentiment of tweets."
   ]
  },
  {
   "cell_type": "code",
   "execution_count": 14,
   "metadata": {},
   "outputs": [],
   "source": [
    "def get_sentiment_scores(df):\n",
    "    \n",
    "    sentiment_scores = []\n",
    "\n",
    "    for tweet in df['clean_text']:\n",
    "        sentiment_scores.append(TextBlob(tweet).sentiment.polarity)\n",
    "\n",
    "    df['sentiment_scores'] = sentiment_scores\n",
    "    \n",
    "    return df, sentiment_scores"
   ]
  },
  {
   "cell_type": "markdown",
   "metadata": {},
   "source": [
    "To establish a threshold for when tweets are positive, neutral or negative, we made this box plot to get a better understanding of the distribution of the data."
   ]
  },
  {
   "cell_type": "code",
   "execution_count": 15,
   "metadata": {},
   "outputs": [
    {
     "data": {
      "image/png": "[encoded data removed]",
      "text/plain": [
       "<Figure size 720x576 with 1 Axes>"
      ]
     },
     "metadata": {
      "needs_background": "light"
     },
     "output_type": "display_data"
    }
   ],
   "source": [
    "plt.figure(figsize=(10, 8))\n",
    "df_scores, sentiment_scores = get_sentiment_scores(df_tweets)\n",
    "plt.boxplot(sentiment_scores)\n",
    "plt.show()"
   ]
  },
  {
   "cell_type": "markdown",
   "metadata": {},
   "source": [
    "The function ```analyse_tweet_sentiment``` perform a sentiment analysis on each tweet and classify the sentiment as positive, negative or neutral."
   ]
  },
  {
   "cell_type": "code",
   "execution_count": 16,
   "metadata": {},
   "outputs": [],
   "source": [
    "def analyse_tweet_sentiment(df):\n",
    "    \n",
    "    positive_tweets = 0\n",
    "    negative_tweets = 0\n",
    "    neutral_tweets = 0\n",
    "    \n",
    "    df_scores, sentiment_scores = get_sentiment_scores(df)\n",
    "    \n",
    "    for score in sentiment_scores:\n",
    "        if score > 0.15:\n",
    "            positive_tweets = positive_tweets + 1\n",
    "        elif score < 0:\n",
    "            negative_tweets = negative_tweets + 1 \n",
    "        else:\n",
    "            neutral_tweets = neutral_tweets + 1\n",
    "\n",
    "    # Calcula el porcentaje de tweets positivos, negativos y neutros\n",
    "    total_tweets = len(sentiment_scores)\n",
    "    positive_percent = positive_tweets / total_tweets * 100\n",
    "    negative_percent = negative_tweets / total_tweets * 100\n",
    "    neutral_percent = neutral_tweets / total_tweets * 100\n",
    "    \n",
    "    return positive_percent, negative_percent, neutral_percent"
   ]
  },
  {
   "cell_type": "code",
   "execution_count": 17,
   "metadata": {},
   "outputs": [],
   "source": [
    "positive_percent, negative_percent, neutral_percent = analyse_tweet_sentiment(df_tweets)"
   ]
  },
  {
   "cell_type": "markdown",
   "metadata": {},
   "source": [
    "## Plot the results"
   ]
  },
  {
   "cell_type": "code",
   "execution_count": 18,
   "metadata": {},
   "outputs": [
    {
     "data": {
      "image/png": "[encoded data removed]",
      "text/plain": [
       "<Figure size 1080x360 with 1 Axes>"
      ]
     },
     "metadata": {
      "needs_background": "light"
     },
     "output_type": "display_data"
    },
    {
     "name": "stdout",
     "output_type": "stream",
     "text": [
      "% of positive tweets 32.729805013927574 \n",
      "\n",
      "% of negative tweets: 22.42339832869081 \n",
      "\n",
      "% of neutral tweets: 44.84679665738162 \n",
      "\n",
      "% average sentiment score: 7.951408818922745\n"
     ]
    }
   ],
   "source": [
    "plt.rcParams[\"figure.figsize\"] = (15,5)\n",
    "\n",
    "height = [neutral_percent, positive_percent, negative_percent]\n",
    "bars = ['Neutral', 'Positive', 'Negative']\n",
    "\n",
    "x_pos = np.arange(len(bars))\n",
    "\n",
    "plt.barh(x_pos,\n",
    "         height,\n",
    "         color=['blue', 'green', 'orange']\n",
    "        )\n",
    "\n",
    "plt.title(\"Sentiment Analysis about the Netflix's show DriveToSurvive\",\n",
    "          fontsize = 15,\n",
    "          fontweight = 'bold'\n",
    "         )\n",
    "\n",
    "plt.yticks(x_pos,\n",
    "           bars,\n",
    "           fontsize = 15\n",
    "          )\n",
    "\n",
    "\n",
    "plt.show()\n",
    "\n",
    "print(\"% of positive tweets\", positive_percent,'\\n')\n",
    "print(\"% of negative tweets:\", negative_percent,'\\n')\n",
    "print(\"% of neutral tweets:\", neutral_percent,'\\n')\n",
    "print(\"% average sentiment score:\", 100 * sum(sentiment_scores) / len(sentiment_scores))\n"
   ]
  },
  {
   "cell_type": "markdown",
   "metadata": {},
   "source": [
    "## Conclusion"
   ]
  },
  {
   "cell_type": "markdown",
   "metadata": {},
   "source": [
    "As we can see, the neutral opinions are the most abundant, which may be due to the promotion of the show on Twitter.  \n",
    "On the other hand, the positive and negative opinions are very close, therefore the positive opinions are higher.\n",
    "\n",
    "The average score indicates that the opinion is neutral. As it is not possible to establish a clear conclusion, what could be done in the future is to take into account the emoticons in the analysis of the text and see if that way we can obtain a clearer conclusion."
   ]
  }
 ],
 "metadata": {
  "kernelspec": {
   "display_name": "Python 3",
   "language": "python",
   "name": "python3"
  },
  "language_info": {
   "codemirror_mode": {
    "name": "ipython",
    "version": 3
   },
   "file_extension": ".py",
   "mimetype": "text/x-python",
   "name": "python",
   "nbconvert_exporter": "python",
   "pygments_lexer": "ipython3",
   "version": "3.7.11"
  }
 },
 "nbformat": 4,
 "nbformat_minor": 4
}
